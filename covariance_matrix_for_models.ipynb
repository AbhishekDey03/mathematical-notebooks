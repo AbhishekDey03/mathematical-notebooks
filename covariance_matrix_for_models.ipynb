{
 "cells": [
  {
   "cell_type": "markdown",
   "metadata": {},
   "source": [
    "# Point spread function covariance\n",
    "\n",
    "In order to use the NLL with a MVG distribution, the assumption was that the covariance $\\Sigma$ of the model was Identity in its representation, essentially for $\\Sigma\\in\\mathbb{R}^{22500\\times22500}$, the matrix was represented as $\\text{diag(1,1,...,1)}$"
   ]
  },
  {
   "cell_type": "markdown",
   "metadata": {},
   "source": [
    "This assumption works for data (pixels) that are i.i.d, however in Radio astronomy, this is not the case. Data are read in as fourier components, and during processing are convolved, this leads to *point spread*, where point sources have been smeared across multiple pixels. We know from [the webiste](https://sundog.stsci.edu/first/catalogs/readme.html) that VLA-FIRST, where RGZ108k (dataset used is from) has a point spread of 1.8 arcseeconds. This means that each pixel represents a distance $\\mathbf{x}$ of $(\\text{RA},\\delta)=(1.8,1.8)$. We also know the point-spread in the north,south is 5.4,6.4."
   ]
  },
  {
   "cell_type": "markdown",
   "metadata": {},
   "source": [
    "## Assumptions:\n",
    "\n",
    "- We will do away with the 6.4, and assume the point-spread distribution is governed only by the 5.4, which gives the point spread $p(x)\\sim \\mathcal{N}(x;0,\\sigma^2)$ wheere $\\sigma=\\frac{5.4}{2\\sqrt{2\\ln{2}}}$\n",
    "- While calculations of distrance in $(\\text{RA},\\delta)$ can be done, for ease the calculation will be done for demonstration in Euclidean space $(x,y)$, allowing to take the $L_2$ norm."
   ]
  },
  {
   "cell_type": "markdown",
   "metadata": {},
   "source": [
    "The algorithm can be thought of as, for two pixels in an image $(i,j)$,$(k,l)$:\n",
    "$$\n",
    "d_{(i,j),(k,l)} = 1.8\\sqrt{(i-k)^2+(j-l)^2}\n",
    "$$\n",
    "\n",
    "This results in a correlation:\n",
    "\n",
    "$$\n",
    "C_{(i,j),(k,l)} = \\mathcal{N}(d;0,\\sigma^2)\n",
    "$$"
   ]
  },
  {
   "cell_type": "markdown",
   "metadata": {},
   "source": [
    "The implementation is followed:"
   ]
  },
  {
   "cell_type": "code",
   "execution_count": 1,
   "metadata": {},
   "outputs": [],
   "source": [
    "import numpy as np\n",
    "from scipy.stats import norm\n",
    "\n",
    "image_size = 150\n",
    "sigma = 5.4 / (2 * np.sqrt(2 * np.log(2)))\n",
    "normal = norm(loc=0,scale=sigma)\n",
    "\n",
    "x, y = np.meshgrid(np.arange(image_size), np.arange(image_size), indexing=\"ij\")\n",
    "pixel_coords = np.stack((x.ravel(), y.ravel()), axis=1)\n",
    "\n",
    "pixels = image_size**2\n",
    "correlation_matrix = np.zeros((pixels,pixels))"
   ]
  },
  {
   "cell_type": "markdown",
   "metadata": {},
   "source": [
    "```\n",
    "for q in range(pixels):\n",
    "    i,j = pixel_coords[q]\n",
    "    for r in range(pixels):\n",
    "        if q == r: # Diagonal entries\n",
    "            correlation_matrix[q,r]=1\n",
    "        else:\n",
    "            k,l = pixel_coords[r] # For pixel 2\n",
    "            d =  d = np.sqrt((i - k) ** 2 + (j - l) ** 2)\n",
    "            C = normal.pdf(d)\n",
    "            correlation_matrix[q,r] = C\n",
    "```"
   ]
  },
  {
   "cell_type": "markdown",
   "metadata": {},
   "source": [
    "Killed at 2.5 mins"
   ]
  },
  {
   "cell_type": "markdown",
   "metadata": {},
   "source": [
    "```\n",
    "for q in range(pixels):\n",
    "    i,j = pixel_coords[q]\n",
    "    for r in range(pixels):\n",
    "        if q == r: # Diagonal entries\n",
    "            correlation_matrix[q,r]=1\n",
    "        else:\n",
    "            k,l = pixel_coords[r] # For pixel 2\n",
    "            d = np.sqrt((i - k) ** 2 + (j - l) ** 2)\n",
    "            C = 1/(np.sqrt(np.pi * 2 * sigma))* np.exp(-np.power(d,2)/(2*sigma**2))\n",
    "            correlation_matrix[q,r] = C\n",
    "```"
   ]
  },
  {
   "cell_type": "markdown",
   "metadata": {},
   "source": [
    "Killed after 10 minutes"
   ]
  },
  {
   "cell_type": "markdown",
   "metadata": {},
   "source": [
    "Try calculating C in a vectorised way"
   ]
  },
  {
   "cell_type": "code",
   "execution_count": null,
   "metadata": {},
   "outputs": [],
   "source": [
    "i, j = pixel_coords[:, 0], pixel_coords[:, 1] \n",
    "\n",
    "di = i[:, None] - i[None, :] # Difference in x for all coordinates\n",
    "dj = j[:, None] - j[None, :] # Difference in y for all coordinats\n",
    "d = 1.8*np.sqrt(di**2 + dj**2) # d[x,x'] difference in euclidean distance between the two pixels in the (RA,\\delta) ~ Euclidean R^{22500 \\otimes 22500}\n",
    "\n",
    "C= (1 / np.sqrt(2 * np.pi * sigma**2)) * np.exp(-d**2 / (2 * sigma**2)) # Just the N(0,sigma^2)\n",
    "\n",
    "# Set the diagonal elements to 1\n",
    "np.fill_diagonal(C, 1)\n",
    "\n",
    "# Assign the result\n",
    "correlation_matrix = C"
   ]
  },
  {
   "cell_type": "markdown",
   "metadata": {},
   "source": [
    "~1m 4.6 to create"
   ]
  },
  {
   "cell_type": "code",
   "execution_count": 3,
   "metadata": {},
   "outputs": [
    {
     "data": {
      "image/png": "[encoded data removed]",
      "text/plain": [
       "<Figure size 640x480 with 2 Axes>"
      ]
     },
     "metadata": {},
     "output_type": "display_data"
    }
   ],
   "source": [
    "import matplotlib.pyplot as plt\n",
    "plt.imshow(correlation_matrix, cmap='viridis', interpolation='nearest',norm=\"log\")\n",
    "plt.colorbar()  # Add color scale\n",
    "plt.show()"
   ]
  },
  {
   "cell_type": "markdown",
   "metadata": {},
   "source": [
    "Correlation Drops off massively (expected)"
   ]
  },
  {
   "cell_type": "markdown",
   "metadata": {},
   "source": [
    "### Example use case with PyTorch"
   ]
  },
  {
   "cell_type": "code",
   "execution_count": null,
   "metadata": {},
   "outputs": [],
   "source": [
    "import torch\n",
    "def find_correlation_matrix(image_size,sigma):\n",
    "    \"\"\"\n",
    "    - Inputs:\n",
    "        - image_size: data dimensionality\n",
    "        - sigma: standard deviation of the target distribution.\n",
    "    - Outputs:\n",
    "        - Correlation matrix: the corrlation matrix as specified in the algorithm in the markdown cells above.\n",
    "    \"\"\"\n",
    "    x, y = np.meshgrid(np.arange(image_size), np.arange(image_size), indexing=\"ij\")\n",
    "    pixel_coords = np.stack((x.ravel(), y.ravel()), axis=1)\n",
    "    i, j = pixel_coords[:, 0], pixel_coords[:, 1] \n",
    "\n",
    "    di = i[:, None] - i[None, :] # Difference in x for all coordinates\n",
    "    dj = j[:, None] - j[None, :] # Difference in y for all coordinats\n",
    "    d = 1.8*np.sqrt(di**2 + dj**2) # d[x,x'] difference in euclidean distance between the two pixels in the (RA,\\delta) ~ Euclidean R^{22500 \\otimes 22500}\n",
    "\n",
    "    C= (1 / np.sqrt(2 * np.pi * sigma**2)) * np.exp(-d**2 / (2 * sigma**2)) # Just the N(0,sigma^2)\n",
    "\n",
    "    # Set the diagonal elements to 1\n",
    "    np.fill_diagonal(C, 1)\n",
    "\n",
    "    # Assign the result\n",
    "    correlation_matrix = C\n",
    "    return correlation_matrix\n",
    "correlation_matrix = find_correlation_matrix(image_size, sigma)\n",
    "correlation_matrix = torch.tensor(correlation_matrix, dtype=torch.float32)\n"
   ]
  },
  {
   "cell_type": "markdown",
   "metadata": {},
   "source": [
    "![Algorithm Breakdown](Screenshot%202025-02-13%20145349.png)"
   ]
  },
  {
   "cell_type": "markdown",
   "metadata": {},
   "source": [
    "## Attempting to reduce computation.\n",
    "\n",
    "The full covariance matrix contains $(2250\\times 22500)$ eentries, and therefore calculations involving it will be incraeseed by this factor.\n",
    "\n",
    "Need a way to reduce the dimensionality of these operations.\n",
    "\n",
    "I will attmpt to implement:\n",
    "- Singular Value Decomposition.\n",
    "- Cholesky Decomposition.\n",
    "\n",
    "The equation of interest in this case is the Multivariat Gaussian negative loss likelihood, where for an n-dimensional Multivariate Gaussian:\n",
    "$$\n",
    "\\mathcal{L} = \\frac{1}{2}\\left[\n",
    "    \\log |\\Sigma| + (x-\\mu)^\\intercal \\Sigma^{-1} (x-\\mu)+n\\log 2\\pi\n",
    "\\right]\n",
    "$$"
   ]
  },
  {
   "cell_type": "markdown",
   "metadata": {},
   "source": [
    "The matrix is symmetric and positive definite (SPD) due to the formulation of $d$ and $C$. This allows us to use Singular Value decomposition, which uses the fact that any SPD matrix has a full eigenvalue problem:\n",
    "\n",
    "$$\\Sigma = Q\\Lambda Q^\\intercal$$\n",
    "\n",
    "Where $Q$ is the matrix populated with columns of eigenvectors, and $\\Lambda$ is populated by the eigenvalues as $\\text{diag}(\\lambda_1,...,\\lambda_n)\\in\\mathbb{R}$. It should also be noted that $Q$ is orthogonal s.t. $QQ^\\intercal=I$.\n",
    "\n",
    "Due to this it is simple to see:\n",
    "\n",
    "$$\n",
    "\\Sigma = Q\\Lambda Q^\\intercal\\\\\n",
    "|\\Sigma| = |\\Lambda| = \\prod_i\\lambda_i\\\\\n",
    "\\log|\\Sigma|=\\sum_i \\log\\lambda_i\n",
    "$$\n",
    "\n",
    "The NLL has two terms of interest that we want to reduce, the log determinant (above), and also $(x-\\mu)^\\intercal \\Sigma^{-1} (x-\\mu)$. So:\n",
    "\n",
    "$$\n",
    "\\Sigma^{-1}=Q\\Lambda^-1Q^\\intercal\\\\\n",
    "(x-\\mu)^\\intercal Q\\Lambda^-1Q^\\intercal (x-\\mu)\\\\\n",
    "z^\\intercal=(x-\\mu)^\\intercal Q\\\\\n",
    "z=Q^\\intercal (x-\\mu)\n",
    "$$\n",
    "\n",
    "So the problem is now:\n",
    "$$\n",
    "(x-\\mu)^\\intercal \\Sigma^{-1} (x-\\mu) = z^\\intercal\\Lambda^{-1}z = \\sum_i\\frac{z_i^2}{\\lambda_i}\n",
    "$$\n",
    "\n",
    "\n",
    "$$\n",
    "\\mathcal{L}_{SVD} = \\frac{1}{2}\\left[\n",
    "                        \\sum_i\\log\\lambda_i + \\sum_i\\frac{z_i^2}{\\lambda_i} + n\\log(2\\pi)\n",
    "\\right]\n",
    "$$"
   ]
  },
  {
   "cell_type": "code",
   "execution_count": 3,
   "metadata": {},
   "outputs": [],
   "source": [
    "def negative_log_likelihood_full(x, mu, cov):\n",
    "    diff = x - mu\n",
    "    n = len(x)\n",
    "    \n",
    "    # Compute log determinant using slogdet for numerical stability.\n",
    "    sign, logdet = np.linalg.slogdet(cov)\n",
    "    if sign <= 0:\n",
    "        raise ValueError(\"Covariance matrix is not positive definite!\")\n",
    "    \n",
    "    # Compute the quadratic term.\n",
    "    inv_cov = np.linalg.inv(cov)\n",
    "    quad_term = diff.T @ inv_cov @ diff\n",
    "    \n",
    "    nll = 0.5 * (logdet + quad_term + n * np.log(2 * np.pi))\n",
    "    return nll\n",
    "\n",
    "def negative_log_likelihood_svd(x, mu, cov):\n",
    "    U, s, Vh = np.linalg.svd(cov)\n",
    "    diff = x - mu\n",
    "    n = len(x)\n",
    "    \n",
    "    # Log determinant is the sum of the logarithms of the singular values.\n",
    "    logdet = np.sum(np.log(s))\n",
    "    \n",
    "    # Transform diff into the SVD basis.\n",
    "    z = Q.T @ diff\n",
    "    quad_term = np.sum((z**2) / s)\n",
    "    \n",
    "    nll = 0.5 * (logdet + quad_term + n * np.log(2 * np.pi))\n",
    "    return nll"
   ]
  },
  {
   "cell_type": "code",
   "execution_count": 5,
   "metadata": {},
   "outputs": [
    {
     "name": "stdout",
     "output_type": "stream",
     "text": [
      "Negative log likelihood (full covariance): 4914.354678231707\n",
      "Negative log likelihood (SVD formulation): 4914.354678231706\n",
      "Difference: 9.094947017729282e-13\n"
     ]
    }
   ],
   "source": [
    "image_size = 50 \n",
    "cov = find_correlation_matrix(image_size, sigma)\n",
    "n = image_size**2  # dimension of the Gaussian\n",
    "\n",
    "x = np.random.randn(n)\n",
    "mu = np.random.randn(n)\n",
    "\n",
    "# Compute the NLL using the full covariance matrix method.\n",
    "nll_full = negative_log_likelihood_full(x, mu, cov)\n",
    "\n",
    "# Q = eigenvector matrix\n",
    "Q, s, Vh = np.linalg.svd(cov)\n",
    "\n",
    "\n",
    "nll_svd = negative_log_likelihood_svd(x, mu, cov)\n",
    "\n",
    "\n",
    "print(\"Negative log likelihood (full covariance):\", nll_full)\n",
    "print(\"Negative log likelihood (SVD formulation):\", nll_svd)\n",
    "print(\"Difference:\", np.abs(nll_full - nll_svd))"
   ]
  },
  {
   "cell_type": "markdown",
   "metadata": {},
   "source": [
    "Cholesky Decomposition works for SPD matrices, and states that it can be broken down:\n",
    "\n",
    "$$\n",
    "\\Sigma = LL^\\intercal\n",
    "$$\n",
    "\n",
    "for $L$ being positive,diagonal, and *triangular*, a matrix type which allows for quicker solving of problems.\n",
    "\n",
    "The log det term works as:\n",
    "\n",
    "$$\n",
    "|\\Sigma|=|LL^\\intercal|= |L|^2 = \\prod_i L_{ii}^2\\\\\n",
    "\\log|\\Sigma| = 2\\sum_i \\log L_{ii}\n",
    "$$\n",
    "\n",
    "The inverted term:\n",
    "$$\n",
    "(x-\\mu)^\\intercal \\Sigma^{-1} (x-\\mu) = (x-\\mu)^\\intercal (L^\\intercal)^{-1}L^{-1} (x-\\mu) = y^\\intercal y= ||y||^2\n",
    "$$\n",
    "\n",
    "However, to avoid inverting the matrix, it is equivalent to exploit the triangular nature of the cholesky component, and instead solve for y:\n",
    "$$\n",
    "L^{-1}(x-\\mu) = y \\rightarrow Ly = x-\\mu\n",
    "$$\n",
    "which is simple to solve due to L being triangular, using the package `scipy.linalg.solve_triangular`\n",
    "\n",
    "$$\n",
    "\\mathcal{L}_{Cholesky} = \\frac{1}{2}\\left[\n",
    "    2\\sum_i\\log L_{ii} + ||L^{-1}(x-\\mu)||^2 +n\\log(2\\pi)\n",
    "\\right]\n",
    "$$"
   ]
  },
  {
   "cell_type": "code",
   "execution_count": 8,
   "metadata": {},
   "outputs": [
    {
     "name": "stdout",
     "output_type": "stream",
     "text": [
      "Negative Log Likelihood (Cholesky): 4914.354678231706\n"
     ]
    }
   ],
   "source": [
    "from scipy.linalg import cholesky, solve_triangular\n",
    "\n",
    "def negative_log_likelihood_cholesky(x, mu, cov):\n",
    "    # 1. Compute the Cholesky decomposition: cov = L * L.T\n",
    "    L = cholesky(cov, lower=True)\n",
    "    \n",
    "    # 2. Solve L * y = (x - mu) for y using forward substitution.\n",
    "    #    This avoids the explicit computation of the inverse.\n",
    "    y = solve_triangular(L, x - mu, lower=True)\n",
    "    \n",
    "    # 3. The quadratic form becomes: (x-mu)^T cov^{-1} (x-mu) = ||y||^2\n",
    "    quad_term = np.dot(y, y)\n",
    "    \n",
    "    # 4. Compute the log-determinant using the Cholesky factor:\n",
    "    #    log(det(cov)) = 2 * sum(log(diag(L)))\n",
    "    log_det = 2 * np.sum(np.log(np.diag(L)))\n",
    "    \n",
    "    # 5. Combine to form the full negative log likelihood:\n",
    "    n = len(x)\n",
    "    nll = 0.5 * (log_det + quad_term + n * np.log(2 * np.pi))\n",
    "    return nll\n",
    "\n",
    "\n",
    "# Compute the negative log likelihood using the Cholesky approach\n",
    "nll_chol = negative_log_likelihood_cholesky(x, mu, cov)\n",
    "print(\"Negative Log Likelihood (Cholesky):\", nll_chol)"
   ]
  },
  {
   "cell_type": "code",
   "execution_count": 9,
   "metadata": {},
   "outputs": [
    {
     "name": "stdout",
     "output_type": "stream",
     "text": [
      "Negative log likelihood (full covariance): 4914.354678231707\n",
      "Negative log likelihood (SVD formulation): 4914.354678231706\n",
      "Negative Log Likelihood (Cholesky): 4914.354678231706\n",
      "Difference: 9.094947017729282e-13\n"
     ]
    }
   ],
   "source": [
    "print(\"Negative log likelihood (full covariance):\", nll_full)\n",
    "print(\"Negative log likelihood (SVD formulation):\", nll_svd)\n",
    "print(\"Negative Log Likelihood (Cholesky):\", nll_chol)\n",
    "print(\"Difference:\", np.abs(nll_full - nll_chol))"
   ]
  },
  {
   "cell_type": "code",
   "execution_count": null,
   "metadata": {},
   "outputs": [
    {
     "name": "stdout",
     "output_type": "stream",
     "text": [
      "Average time per call (Full):     1.14e+00 seconds\n",
      "Average time per call (SVD):      7.00e+00 seconds\n",
      "Average time per call (Cholesky): 2.00e-01 seconds\n",
      "Fastest method: Cholesky\n"
     ]
    }
   ],
   "source": [
    "import time\n",
    "num_iter = 20\n",
    "\n",
    "# Full covariance method timing\n",
    "start_full = time.perf_counter()\n",
    "for _ in range(num_iter):\n",
    "    nll_full = negative_log_likelihood_full(x, mu, cov)\n",
    "time_full = (time.perf_counter() - start_full) / num_iter\n",
    "\n",
    "# SVD method timing\n",
    "start_svd = time.perf_counter()\n",
    "for _ in range(num_iter):\n",
    "    nll_svd = negative_log_likelihood_svd(x, mu, cov)\n",
    "time_svd = (time.perf_counter() - start_svd) / num_iter\n",
    "\n",
    "# Cholesky method timing\n",
    "start_chol = time.perf_counter()\n",
    "for _ in range(num_iter):\n",
    "    nll_chol = negative_log_likelihood_cholesky(x, mu, cov)\n",
    "time_chol = (time.perf_counter() - start_chol) / num_iter\n",
    "\n",
    "\n",
    "print(\"Average time per call (Full):     {:.2e} seconds\".format(time_full))\n",
    "print(\"Average time per call (SVD):      {:.2e} seconds\".format(time_svd))\n",
    "print(\"Average time per call (Cholesky): {:.2e} seconds\".format(time_chol))\n",
    "\n",
    "times = {\"Full\": time_full, \"SVD\": time_svd, \"Cholesky\": time_chol}\n",
    "fastest = min(times, key=times.get)\n",
    "print(\"Fastest method:\", fastest)"
   ]
  },
  {
   "cell_type": "code",
   "execution_count": 11,
   "metadata": {},
   "outputs": [
    {
     "name": "stdout",
     "output_type": "stream",
     "text": [
      "Is covariance matrix symmetric? True\n"
     ]
    }
   ],
   "source": [
    "# Check if covariance matrix is symmetric\n",
    "is_symmetric = np.allclose(cov, cov.T, atol=1e-10)\n",
    "print(\"Is covariance matrix symmetric?\", is_symmetric)"
   ]
  },
  {
   "cell_type": "code",
   "execution_count": null,
   "metadata": {},
   "outputs": [
    {
     "name": "stdout",
     "output_type": "stream",
     "text": [
      "Is Cholesky inverse direct inverse? True\n"
     ]
    }
   ],
   "source": [
    "if is_psd:\n",
    "    # Compute inverse using Cholesky\n",
    "    L = cholesky(cov, lower=True)\n",
    "    L_inv = np.linalg.inv(L)\n",
    "    chol_inv = L_inv.T @ L_inv\n",
    "\n",
    "    # Compute direct inverse\n",
    "    direct_inv = np.linalg.inv(cov)\n",
    "\n",
    "    # Check if the two inverses are close\n",
    "    are_inverses_close = np.allclose(chol_inv, direct_inv, atol=1e-30)\n",
    "    print(\"Is Cholesky inverse the same as direct inverse?\", are_inverses_close)"
   ]
  },
  {
   "cell_type": "code",
   "execution_count": 23,
   "metadata": {},
   "outputs": [
    {
     "name": "stdout",
     "output_type": "stream",
     "text": [
      "Actual Memory Usage:\n",
      " - Full Covariance Matrix: 47.68 MB\n",
      " - Cholesky Factor (Lower Triangular): 47.68 MB\n",
      " - Cholesky requires 1.00x less memory than storing full covariance.\n"
     ]
    }
   ],
   "source": [
    "import sys\n",
    "\n",
    "# Compute the actual memory usage of the covariance matrix and Cholesky factor\n",
    "cov_size = sys.getsizeof(cov)\n",
    "try:\n",
    "    L = cholesky(cov, lower=True)\n",
    "    L_size = sys.getsizeof(L)\n",
    "except np.linalg.LinAlgError:\n",
    "    L_size = None  # Cholesky decomposition failed\n",
    "\n",
    "# Convert bytes to megabytes\n",
    "cov_size_mb = cov_size / (1024**2)\n",
    "L_size_mb = L_size / (1024**2) if L_size else None\n",
    "\n",
    "# Print results\n",
    "print(f\"Actual Memory Usage:\")\n",
    "print(f\" - Full Covariance Matrix: {cov_size_mb:.2f} MB\")\n",
    "if L_size is not None:\n",
    "    print(f\" - Cholesky Factor (Lower Triangular): {L_size_mb:.2f} MB\")\n",
    "    print(f\" - Cholesky requires {cov_size_mb / L_size_mb:.2f}x less memory than storing full covariance.\")\n",
    "else:\n",
    "    print(\" - Cholesky decomposition failed, unable to compute size.\")\n"
   ]
  },
  {
   "cell_type": "code",
   "execution_count": 36,
   "metadata": {},
   "outputs": [
    {
     "data": {
      "image/png": "[encoded data removed]",
      "text/plain": [
       "<Figure size 640x480 with 2 Axes>"
      ]
     },
     "metadata": {},
     "output_type": "display_data"
    }
   ],
   "source": [
    "import matplotlib.colors as mcolors\n",
    "\n",
    "cmap = plt.cm.viridis.copy()\n",
    "cmap.set_bad('white') \n",
    "L_masked = np.ma.masked_where(L == 0, L)\n",
    "\n",
    "# Apply logarithmic normalization, ignoring zero values\n",
    "norm = mcolors.LogNorm(vmin=L[L > 0].min(), vmax=L.max())\n",
    "\n",
    "plt.imshow(L_masked, cmap=cmap, norm=norm, interpolation='nearest')\n",
    "plt.colorbar()  # Add color scale\n",
    "plt.show()\n"
   ]
  }
 ],
 "metadata": {
  "kernelspec": {
   "display_name": "Python 3",
   "language": "python",
   "name": "python3"
  },
  "language_info": {
   "codemirror_mode": {
    "name": "ipython",
    "version": 3
   },
   "file_extension": ".py",
   "mimetype": "text/x-python",
   "name": "python",
   "nbconvert_exporter": "python",
   "pygments_lexer": "ipython3",
   "version": "3.12.4"
  }
 },
 "nbformat": 4,
 "nbformat_minor": 2
}
