{
 "cells": [
  {
   "cell_type": "markdown",
   "metadata": {},
   "source": [
    "# Point spread function covariance\n",
    "\n",
    "In order to use the NLL with a MVG distribution, the assumption was that the covariance $\\Sigma$ of the model was Identity in its representation, essentially for $\\Sigma\\in\\mathbb{R}^{22500x22500}$, the matrix was represented as $\\text{diag(1,1,...,1)}$"
   ]
  },
  {
   "cell_type": "markdown",
   "metadata": {},
   "source": [
    "This assumption works for data (pixels) that are i.i.d, however in Radio astronomy, this is not the case. Data are read in as fourier components, and during processing are convolved, this leads to *point spread*, where point sources have been smeared across multiple pixels. We know from [the webiste](https://sundog.stsci.edu/first/catalogs/readme.html) that VLA-FIRST, where RGZ108k (dataset used is from) has a point spread of 1.8 arcseeconds. This means that each pixel represents a distance $\\mathbf{x}$ of $(\\text{RA},\\delta)=(1.8,1.8)$. We also know the point-spread in the north,south is 5.4,6.4."
   ]
  },
  {
   "cell_type": "markdown",
   "metadata": {},
   "source": [
    "## Assumptions:\n",
    "\n",
    "- We will do away with the 6.4, and assume the point-spread distribution is governed only by the 5.4, which gives the point spread $p(x)\\sim \\mathcal{N}(x;0,\\sigma^2)$ wheere $\\sigma=\\frac{5.4}{2\\sqrt{2\\ln{2}}}$\n",
    "- While calculations of distrance in $(\\text{RA},\\delta)$ can be done, for ease the calculation will be done for demonstration in Euclidean space $(x,y)$, allowing to take the $L_2$ norm."
   ]
  },
  {
   "cell_type": "markdown",
   "metadata": {},
   "source": [
    "The algorithm can be thought of as, for two pixels in an image $(i,j)$,$(k,l)$:\n",
    "$$\n",
    "d_{(i,j),(k,l)} = 1.8\\sqrt{(i-k)^2+(j-l)^2}\n",
    "$$\n",
    "\n",
    "This results in a correlation:\n",
    "\n",
    "$$\n",
    "C_{(i,j),(k,l)} = \\mathcal{N}(d;0,\\sigma^2)\n",
    "$$"
   ]
  },
  {
   "cell_type": "markdown",
   "metadata": {},
   "source": [
    "The implementation is followed:"
   ]
  },
  {
   "cell_type": "code",
   "execution_count": null,
   "metadata": {},
   "outputs": [],
   "source": [
    "import numpy as np\n",
    "from scipy.stats import norm\n",
    "\n",
    "image_size = 150\n",
    "sigma = 5.4 / (2 * np.sqrt(2 * np.log(2)))\n",
    "normal = norm(loc=0,scale=sigma)\n",
    "\n",
    "x, y = np.meshgrid(np.arange(image_size), np.arange(image_size), indexing=\"ij\")\n",
    "pixel_coords = np.stack((x.ravel(), y.ravel()), axis=1)\n",
    "\n",
    "pixels = image_size**2\n",
    "correlation_matrix = np.zeros((pixels,pixels))"
   ]
  },
  {
   "cell_type": "code",
   "execution_count": 5,
   "metadata": {},
   "outputs": [
    {
     "ename": "KeyboardInterrupt",
     "evalue": "",
     "output_type": "error",
     "traceback": [
      "\u001b[1;31m---------------------------------------------------------------------------\u001b[0m",
      "\u001b[1;31mKeyboardInterrupt\u001b[0m                         Traceback (most recent call last)",
      "Cell \u001b[1;32mIn[5], line 9\u001b[0m\n\u001b[0;32m      7\u001b[0m k,l \u001b[38;5;241m=\u001b[39m pixel_coords[r] \u001b[38;5;66;03m# For pixel 2\u001b[39;00m\n\u001b[0;32m      8\u001b[0m d \u001b[38;5;241m=\u001b[39m  d \u001b[38;5;241m=\u001b[39m np\u001b[38;5;241m.\u001b[39msqrt((i \u001b[38;5;241m-\u001b[39m k) \u001b[38;5;241m*\u001b[39m\u001b[38;5;241m*\u001b[39m \u001b[38;5;241m2\u001b[39m \u001b[38;5;241m+\u001b[39m (j \u001b[38;5;241m-\u001b[39m l) \u001b[38;5;241m*\u001b[39m\u001b[38;5;241m*\u001b[39m \u001b[38;5;241m2\u001b[39m)\n\u001b[1;32m----> 9\u001b[0m C \u001b[38;5;241m=\u001b[39m \u001b[43mnormal\u001b[49m\u001b[38;5;241;43m.\u001b[39;49m\u001b[43mpdf\u001b[49m\u001b[43m(\u001b[49m\u001b[43md\u001b[49m\u001b[43m)\u001b[49m\n\u001b[0;32m     10\u001b[0m correlation_matrix[q,r] \u001b[38;5;241m=\u001b[39m C\n",
      "File \u001b[1;32mc:\\Users\\Abhishek Dey\\AppData\\Local\\Programs\\Python\\Python312\\Lib\\site-packages\\scipy\\stats\\_distn_infrastructure.py:594\u001b[0m, in \u001b[0;36mrv_continuous_frozen.pdf\u001b[1;34m(self, x)\u001b[0m\n\u001b[0;32m    593\u001b[0m \u001b[38;5;28;01mdef\u001b[39;00m \u001b[38;5;21mpdf\u001b[39m(\u001b[38;5;28mself\u001b[39m, x):\n\u001b[1;32m--> 594\u001b[0m     \u001b[38;5;28;01mreturn\u001b[39;00m \u001b[38;5;28;43mself\u001b[39;49m\u001b[38;5;241;43m.\u001b[39;49m\u001b[43mdist\u001b[49m\u001b[38;5;241;43m.\u001b[39;49m\u001b[43mpdf\u001b[49m\u001b[43m(\u001b[49m\u001b[43mx\u001b[49m\u001b[43m,\u001b[49m\u001b[43m \u001b[49m\u001b[38;5;241;43m*\u001b[39;49m\u001b[38;5;28;43mself\u001b[39;49m\u001b[38;5;241;43m.\u001b[39;49m\u001b[43margs\u001b[49m\u001b[43m,\u001b[49m\u001b[43m \u001b[49m\u001b[38;5;241;43m*\u001b[39;49m\u001b[38;5;241;43m*\u001b[39;49m\u001b[38;5;28;43mself\u001b[39;49m\u001b[38;5;241;43m.\u001b[39;49m\u001b[43mkwds\u001b[49m\u001b[43m)\u001b[49m\n",
      "File \u001b[1;32mc:\\Users\\Abhishek Dey\\AppData\\Local\\Programs\\Python\\Python312\\Lib\\site-packages\\scipy\\stats\\_distn_infrastructure.py:2032\u001b[0m, in \u001b[0;36mrv_continuous.pdf\u001b[1;34m(self, x, *args, **kwds)\u001b[0m\n\u001b[0;32m   2030\u001b[0m cond \u001b[38;5;241m=\u001b[39m cond0 \u001b[38;5;241m&\u001b[39m cond1\n\u001b[0;32m   2031\u001b[0m output \u001b[38;5;241m=\u001b[39m zeros(shape(cond), dtyp)\n\u001b[1;32m-> 2032\u001b[0m \u001b[43mputmask\u001b[49m\u001b[43m(\u001b[49m\u001b[43moutput\u001b[49m\u001b[43m,\u001b[49m\u001b[43m \u001b[49m\u001b[43m(\u001b[49m\u001b[38;5;241;43m1\u001b[39;49m\u001b[38;5;241;43m-\u001b[39;49m\u001b[43mcond0\u001b[49m\u001b[43m)\u001b[49m\u001b[38;5;241;43m+\u001b[39;49m\u001b[43mnp\u001b[49m\u001b[38;5;241;43m.\u001b[39;49m\u001b[43misnan\u001b[49m\u001b[43m(\u001b[49m\u001b[43mx\u001b[49m\u001b[43m)\u001b[49m\u001b[43m,\u001b[49m\u001b[43m \u001b[49m\u001b[38;5;28;43mself\u001b[39;49m\u001b[38;5;241;43m.\u001b[39;49m\u001b[43mbadvalue\u001b[49m\u001b[43m)\u001b[49m\n\u001b[0;32m   2033\u001b[0m \u001b[38;5;28;01mif\u001b[39;00m np\u001b[38;5;241m.\u001b[39many(cond):\n\u001b[0;32m   2034\u001b[0m     goodargs \u001b[38;5;241m=\u001b[39m argsreduce(cond, \u001b[38;5;241m*\u001b[39m((x,)\u001b[38;5;241m+\u001b[39margs\u001b[38;5;241m+\u001b[39m(scale,)))\n",
      "\u001b[1;31mKeyboardInterrupt\u001b[0m: "
     ]
    }
   ],
   "source": [
    "for q in range(pixels):\n",
    "    i,j = pixel_coords[q]\n",
    "    for r in range(pixels):\n",
    "        if q == r: # Diagonal entries\n",
    "            correlation_matrix[q,r]=1\n",
    "        else:\n",
    "            k,l = pixel_coords[r] # For pixel 2\n",
    "            d =  d = np.sqrt((i - k) ** 2 + (j - l) ** 2)\n",
    "            C = normal.pdf(d)\n",
    "            correlation_matrix[q,r] = C"
   ]
  },
  {
   "cell_type": "markdown",
   "metadata": {},
   "source": [
    "Killed at 2.5 mins"
   ]
  },
  {
   "cell_type": "code",
   "execution_count": null,
   "metadata": {},
   "outputs": [
    {
     "ename": "KeyboardInterrupt",
     "evalue": "",
     "output_type": "error",
     "traceback": [
      "\u001b[1;31m---------------------------------------------------------------------------\u001b[0m",
      "\u001b[1;31mKeyboardInterrupt\u001b[0m                         Traceback (most recent call last)",
      "Cell \u001b[1;32mIn[7], line 9\u001b[0m\n\u001b[0;32m      7\u001b[0m k,l \u001b[38;5;241m=\u001b[39m pixel_coords[r] \u001b[38;5;66;03m# For pixel 2\u001b[39;00m\n\u001b[0;32m      8\u001b[0m d \u001b[38;5;241m=\u001b[39m  d \u001b[38;5;241m=\u001b[39m np\u001b[38;5;241m.\u001b[39msqrt((i \u001b[38;5;241m-\u001b[39m k) \u001b[38;5;241m*\u001b[39m\u001b[38;5;241m*\u001b[39m \u001b[38;5;241m2\u001b[39m \u001b[38;5;241m+\u001b[39m (j \u001b[38;5;241m-\u001b[39m l) \u001b[38;5;241m*\u001b[39m\u001b[38;5;241m*\u001b[39m \u001b[38;5;241m2\u001b[39m)\n\u001b[1;32m----> 9\u001b[0m C \u001b[38;5;241m=\u001b[39m \u001b[38;5;241m1\u001b[39m\u001b[38;5;241m/\u001b[39m(np\u001b[38;5;241m.\u001b[39msqrt(np\u001b[38;5;241m.\u001b[39mpi \u001b[38;5;241m*\u001b[39m \u001b[38;5;241m2\u001b[39m \u001b[38;5;241m*\u001b[39m sigma))\u001b[38;5;241m*\u001b[39m np\u001b[38;5;241m.\u001b[39mexp(\u001b[38;5;241m-\u001b[39m\u001b[43mnp\u001b[49m\u001b[38;5;241;43m.\u001b[39;49m\u001b[43mpower\u001b[49m\u001b[43m(\u001b[49m\u001b[43md\u001b[49m\u001b[43m,\u001b[49m\u001b[38;5;241;43m2\u001b[39;49m\u001b[43m)\u001b[49m\u001b[38;5;241m/\u001b[39m(\u001b[38;5;241m2\u001b[39m\u001b[38;5;241m*\u001b[39msigma\u001b[38;5;241m*\u001b[39m\u001b[38;5;241m*\u001b[39m\u001b[38;5;241m2\u001b[39m))\n\u001b[0;32m     10\u001b[0m correlation_matrix[q,r] \u001b[38;5;241m=\u001b[39m C\n",
      "\u001b[1;31mKeyboardInterrupt\u001b[0m: "
     ]
    }
   ],
   "source": [
    "for q in range(pixels):\n",
    "    i,j = pixel_coords[q]\n",
    "    for r in range(pixels):\n",
    "        if q == r: # Diagonal entries\n",
    "            correlation_matrix[q,r]=1\n",
    "        else:\n",
    "            k,l = pixel_coords[r] # For pixel 2\n",
    "            d = np.sqrt((i - k) ** 2 + (j - l) ** 2)\n",
    "            C = 1/(np.sqrt(np.pi * 2 * sigma))* np.exp(-np.power(d,2)/(2*sigma**2))\n",
    "            correlation_matrix[q,r] = C"
   ]
  },
  {
   "cell_type": "markdown",
   "metadata": {},
   "source": [
    "Killed after 10 minutes"
   ]
  },
  {
   "cell_type": "markdown",
   "metadata": {},
   "source": [
    "Try calculating C in a vectorised way"
   ]
  },
  {
   "cell_type": "code",
   "execution_count": 8,
   "metadata": {},
   "outputs": [],
   "source": [
    "i, j = pixel_coords[:, 0], pixel_coords[:, 1] \n",
    "\n",
    "di = i[:, None] - i[None, :] # Difference in x for all coordinates\n",
    "dj = j[:, None] - j[None, :] # Difference in y for all coordinats\n",
    "d = 1.8*np.sqrt(di**2 + dj**2) # d[x,x'] difference in euclidean distance between the two pixels in the (RA,\\delta) ~ Euclidean\n",
    "\n",
    "C= (1 / np.sqrt(2 * np.pi * sigma**2)) * np.exp(-d**2 / (2 * sigma**2)) # Just the N(0,sigma^2)\n",
    "\n",
    "# Set the diagonal elements to 1\n",
    "np.fill_diagonal(C, 1)\n",
    "\n",
    "# Assign the result\n",
    "correlation_matrix = C\n"
   ]
  },
  {
   "cell_type": "code",
   "execution_count": null,
   "metadata": {},
   "outputs": [],
   "source": []
  }
 ],
 "metadata": {
  "kernelspec": {
   "display_name": "Python 3",
   "language": "python",
   "name": "python3"
  },
  "language_info": {
   "codemirror_mode": {
    "name": "ipython",
    "version": 3
   },
   "file_extension": ".py",
   "mimetype": "text/x-python",
   "name": "python",
   "nbconvert_exporter": "python",
   "pygments_lexer": "ipython3",
   "version": "3.12.4"
  }
 },
 "nbformat": 4,
 "nbformat_minor": 2
}
