{
 "cells": [
  {
   "cell_type": "markdown",
   "metadata": {},
   "source": [
    "# Point spread function covariance\n",
    "\n",
    "In order to use the NLL with a MVG distribution, the assumption was that the covariance $\\Sigma$ of the model was Identity in its representation, essentially for $\\Sigma\\in\\mathbb{R}^{22500x22500}$, the matrix was represented as $\\text{diag(1,1,...,1)}$"
   ]
  },
  {
   "cell_type": "markdown",
   "metadata": {},
   "source": [
    "This assumption works for data (pixels) that are i.i.d, however in Radio astoronomy, this is not the case. Data are read in as fourier components, and during processing are convolved, this leads to *point spread*, where point sources have been smeared across multiple pixels. We know from [the webiste](https://sundog.stsci.edu/first/catalogs/readme.html) that VLA-FIRST, where RGZ108k (dataset used is from) has a point spread of 1.8 arcseeconds. This means that each pixel represents a distance $\\mathbf{x}$ of $(\\text{RA},\\delta)=(1.8,1.8)$. We also know the point-spread in the north,south is 5.4,6.4."
   ]
  },
  {
   "cell_type": "markdown",
   "metadata": {},
   "source": [
    "## Assumptions:\n",
    "\n",
    "- We will do away with the 6.4, and assume the point-spread distribution is governed only by the 5.4, which gives the point spread $p\\sim \\mathcal{N}(0,\\sigma^2)$ wheere $\\sigma=\\frac{5.4}{2\\sqrt{2\\ln{2}}}$\n",
    "- While calculations of distrance in $(\\text{RA},\\delta)$ can be done, for ease the calculation will be done for demonstration in Euclidean space $(x,y)$, allowing to take the $L_2$ norm."
   ]
  },
  {
   "cell_type": "markdown",
   "metadata": {},
   "source": [
    "The algorithm can be thought of as, for two pixels in an image $(i,j)$,$(k,l)$:\n",
    "$$\n",
    "d_{(i,j),(k,l)} = \\sqrt{(i-k)^2+(j-l)^2}\n",
    "$$\n",
    "\n",
    "This results in a correlation:\n",
    "\n",
    "$$\n",
    "C_{(i,j),(k,l)} = \\mathcal{N}(d;0,\\sigma^2)\n",
    "$$"
   ]
  },
  {
   "cell_type": "markdown",
   "metadata": {},
   "source": [
    "The implementation is followed:"
   ]
  },
  {
   "cell_type": "code",
   "execution_count": 3,
   "metadata": {},
   "outputs": [],
   "source": [
    "import numpy as np\n",
    "from scipy.stats import norm\n",
    "\n",
    "image_size = 150\n",
    "sigma = 5.4 / (2 * np.sqrt(2 * np.log(2)))\n",
    "normal = norm(loc=0,scale=sigma)\n",
    "\n",
    "x,y = np.meshgrid(np.arange(image_size),np.arange(image_size),indexing = \"ij\")\n",
    "pixel_coords = np.column_stack((x.ravel(),y.ravel()))\n",
    "\n",
    "pixels = image_size**2\n",
    "correlation_matrix = np.zeros((pixels,pixels))"
   ]
  },
  {
   "cell_type": "code",
   "execution_count": null,
   "metadata": {},
   "outputs": [],
   "source": [
    "for q in range(pixels):\n",
    "    i,j = pixel_coords[q]\n",
    "    for r in range(pixels):\n",
    "        if q == r: # Diagonal entries\n",
    "            correlation_matrix[q,r]=1\n",
    "        else:\n",
    "            k,l = pixel_coords[r] # For pixel 2\n",
    "            d =  d = np.sqrt((i - k) ** 2 + (j - l) ** 2)\n",
    "            C = normal.pdf(d)\n",
    "            correlation_matrix[q,r] = C"
   ]
  },
  {
   "cell_type": "code",
   "execution_count": null,
   "metadata": {},
   "outputs": [],
   "source": []
  }
 ],
 "metadata": {
  "kernelspec": {
   "display_name": "Python 3",
   "language": "python",
   "name": "python3"
  },
  "language_info": {
   "codemirror_mode": {
    "name": "ipython",
    "version": 3
   },
   "file_extension": ".py",
   "mimetype": "text/x-python",
   "name": "python",
   "nbconvert_exporter": "python",
   "pygments_lexer": "ipython3",
   "version": "3.12.4"
  }
 },
 "nbformat": 4,
 "nbformat_minor": 2
}
