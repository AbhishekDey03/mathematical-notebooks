{
 "cells": [
  {
   "cell_type": "markdown",
   "metadata": {},
   "source": [
    "# Point spread function covariance\n",
    "\n",
    "In order to use the NLL with a MVG distribution, the assumption was that the covariance $\\Sigma$ of the model was Identity in its representation, essentially for $\\Sigma\\in\\mathbb{R}^{22500x22500}$, the matrix was represented as $\\text{diag(1,1,...,1)}$"
   ]
  },
  {
   "cell_type": "markdown",
   "metadata": {},
   "source": [
    "This assumption works for data (pixels) that are i.i.d, however in Radio astronomy, this is not the case. Data are read in as fourier components, and during processing are convolved, this leads to *point spread*, where point sources have been smeared across multiple pixels. We know from [the webiste](https://sundog.stsci.edu/first/catalogs/readme.html) that VLA-FIRST, where RGZ108k (dataset used is from) has a point spread of 1.8 arcseeconds. This means that each pixel represents a distance $\\mathbf{x}$ of $(\\text{RA},\\delta)=(1.8,1.8)$. We also know the point-spread in the north,south is 5.4,6.4."
   ]
  },
  {
   "cell_type": "markdown",
   "metadata": {},
   "source": [
    "## Assumptions:\n",
    "\n",
    "- We will do away with the 6.4, and assume the point-spread distribution is governed only by the 5.4, which gives the point spread $p(x)\\sim \\mathcal{N}(x;0,\\sigma^2)$ wheere $\\sigma=\\frac{5.4}{2\\sqrt{2\\ln{2}}}$\n",
    "- While calculations of distrance in $(\\text{RA},\\delta)$ can be done, for ease the calculation will be done for demonstration in Euclidean space $(x,y)$, allowing to take the $L_2$ norm."
   ]
  },
  {
   "cell_type": "markdown",
   "metadata": {},
   "source": [
    "The algorithm can be thought of as, for two pixels in an image $(i,j)$,$(k,l)$:\n",
    "$$\n",
    "d_{(i,j),(k,l)} = 1.8\\sqrt{(i-k)^2+(j-l)^2}\n",
    "$$\n",
    "\n",
    "This results in a correlation:\n",
    "\n",
    "$$\n",
    "C_{(i,j),(k,l)} = \\mathcal{N}(d;0,\\sigma^2)\n",
    "$$"
   ]
  },
  {
   "cell_type": "markdown",
   "metadata": {},
   "source": [
    "The implementation is followed:"
   ]
  },
  {
   "cell_type": "code",
   "execution_count": 1,
   "metadata": {},
   "outputs": [],
   "source": [
    "import numpy as np\n",
    "from scipy.stats import norm\n",
    "\n",
    "image_size = 150\n",
    "sigma = 5.4 / (2 * np.sqrt(2 * np.log(2)))\n",
    "normal = norm(loc=0,scale=sigma)\n",
    "\n",
    "x, y = np.meshgrid(np.arange(image_size), np.arange(image_size), indexing=\"ij\")\n",
    "pixel_coords = np.stack((x.ravel(), y.ravel()), axis=1)\n",
    "\n",
    "pixels = image_size**2\n",
    "correlation_matrix = np.zeros((pixels,pixels))"
   ]
  },
  {
   "cell_type": "markdown",
   "metadata": {},
   "source": [
    "```\n",
    "for q in range(pixels):\n",
    "    i,j = pixel_coords[q]\n",
    "    for r in range(pixels):\n",
    "        if q == r: # Diagonal entries\n",
    "            correlation_matrix[q,r]=1\n",
    "        else:\n",
    "            k,l = pixel_coords[r] # For pixel 2\n",
    "            d =  d = np.sqrt((i - k) ** 2 + (j - l) ** 2)\n",
    "            C = normal.pdf(d)\n",
    "            correlation_matrix[q,r] = C\n",
    "```"
   ]
  },
  {
   "cell_type": "markdown",
   "metadata": {},
   "source": [
    "Killed at 2.5 mins"
   ]
  },
  {
   "cell_type": "markdown",
   "metadata": {},
   "source": [
    "```\n",
    "for q in range(pixels):\n",
    "    i,j = pixel_coords[q]\n",
    "    for r in range(pixels):\n",
    "        if q == r: # Diagonal entries\n",
    "            correlation_matrix[q,r]=1\n",
    "        else:\n",
    "            k,l = pixel_coords[r] # For pixel 2\n",
    "            d = np.sqrt((i - k) ** 2 + (j - l) ** 2)\n",
    "            C = 1/(np.sqrt(np.pi * 2 * sigma))* np.exp(-np.power(d,2)/(2*sigma**2))\n",
    "            correlation_matrix[q,r] = C\n",
    "```"
   ]
  },
  {
   "cell_type": "markdown",
   "metadata": {},
   "source": [
    "Killed after 10 minutes"
   ]
  },
  {
   "cell_type": "markdown",
   "metadata": {},
   "source": [
    "Try calculating C in a vectorised way"
   ]
  },
  {
   "cell_type": "code",
   "execution_count": 2,
   "metadata": {},
   "outputs": [],
   "source": [
    "i, j = pixel_coords[:, 0], pixel_coords[:, 1] \n",
    "\n",
    "di = i[:, None] - i[None, :] # Difference in x for all coordinates\n",
    "dj = j[:, None] - j[None, :] # Difference in y for all coordinats\n",
    "d = 1.8*np.sqrt(di**2 + dj**2) # d[x,x'] difference in euclidean distance between the two pixels in the (RA,\\delta) ~ Euclidean R^{22500 \\otimes 22500}\n",
    "\n",
    "C= (1 / np.sqrt(2 * np.pi * sigma**2)) * np.exp(-d**2 / (2 * sigma**2)) # Just the N(0,sigma^2)\n",
    "\n",
    "# Set the diagonal elements to 1\n",
    "np.fill_diagonal(C, 1)\n",
    "\n",
    "# Assign the result\n",
    "correlation_matrix = C\n"
   ]
  },
  {
   "cell_type": "code",
   "execution_count": 3,
   "metadata": {},
   "outputs": [
    {
     "data": {
      "image/png": "[encoded data removed]",
      "text/plain": [
       "<Figure size 640x480 with 2 Axes>"
      ]
     },
     "metadata": {},
     "output_type": "display_data"
    }
   ],
   "source": [
    "import matplotlib.pyplot as plt\n",
    "plt.imshow(correlation_matrix, cmap='viridis', interpolation='nearest',norm=\"log\")\n",
    "plt.colorbar()  # Add color scale\n",
    "plt.show()"
   ]
  },
  {
   "cell_type": "markdown",
   "metadata": {},
   "source": [
    "Correlation Drops off massively (expected)"
   ]
  },
  {
   "cell_type": "markdown",
   "metadata": {},
   "source": [
    "### Example use case with PyTorch"
   ]
  },
  {
   "cell_type": "code",
   "execution_count": null,
   "metadata": {},
   "outputs": [],
   "source": [
    "import torch\n",
    "def find_correlation_matrix(image_size,sigma):\n",
    "    \"\"\"\n",
    "    - Inputs:\n",
    "        - image_size: data dimensionality\n",
    "        - sigma: standard deviation of the target distribution.\n",
    "    \"\"\"\n",
    "    x, y = np.meshgrid(np.arange(image_size), np.arange(image_size), indexing=\"ij\")\n",
    "    pixel_coords = np.stack((x.ravel(), y.ravel()), axis=1)\n",
    "    i, j = pixel_coords[:, 0], pixel_coords[:, 1] \n",
    "\n",
    "    di = i[:, None] - i[None, :] # Difference in x for all coordinates\n",
    "    dj = j[:, None] - j[None, :] # Difference in y for all coordinats\n",
    "    d = 1.8*np.sqrt(di**2 + dj**2) # d[x,x'] difference in euclidean distance between the two pixels in the (RA,\\delta) ~ Euclidean R^{22500 \\otimes 22500}\n",
    "\n",
    "    C= (1 / np.sqrt(2 * np.pi * sigma**2)) * np.exp(-d**2 / (2 * sigma**2)) # Just the N(0,sigma^2)\n",
    "\n",
    "    # Set the diagonal elements to 1\n",
    "    np.fill_diagonal(C, 1)\n",
    "\n",
    "    # Assign the result\n",
    "    correlation_matrix = C\n",
    "    return correlation_matrix\n",
    "correlation_matrix = find_correlation_matrix(image_size, sigma)\n",
    "correlation_matrix = torch.tensor(correlation_matrix, dtype=torch.float32)\n"
   ]
  }
 ],
 "metadata": {
  "kernelspec": {
   "display_name": "Python 3",
   "language": "python",
   "name": "python3"
  },
  "language_info": {
   "codemirror_mode": {
    "name": "ipython",
    "version": 3
   },
   "file_extension": ".py",
   "mimetype": "text/x-python",
   "name": "python",
   "nbconvert_exporter": "python",
   "pygments_lexer": "ipython3",
   "version": "3.12.4"
  }
 },
 "nbformat": 4,
 "nbformat_minor": 2
}
