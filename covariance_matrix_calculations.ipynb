{
 "cells": [
  {
   "cell_type": "markdown",
   "metadata": {},
   "source": [
    "# The problem\n",
    "\n",
    "For images of $150\\times 150$, we have a covariance matrix $\\Sigma = 22500 \\times 22500$. This is computationally expensive, as the matrix has $506,250,000$ entries. Our matrix is sampled from a normal distribution $\\sim \\mathcal{N}(0,\\sigma^2)$ for $\\sigma = \\frac{5.4}{2\\sqrt{2\\log(2)}}$. This means that, given the entries we pass into the distribution (distances) are strictly positive, we can calculate confidences $\\alpha$ such that:\n",
    "$$\\alpha = P_{\\mathcal{N}(0,\\sigma^2)}(d\\leq\\tau|d\\geq 0),$$\n",
    "$$P_{\\mathcal{N}(0,\\sigma^2)}(d\\leq\\tau|d\\geq 0) = \\frac{P_{\\mathcal{N}(0,\\sigma^2)}(0\\leq d\\leq \\tau)}{P_{\\mathcal{N}(0,\\sigma^2)}(d\\geq 0)}$$\n",
    "The denominator is $\\frac{1}{2}$ from basic properties of gaussian distributions, leaving us with the problem:\n",
    "\n",
    "$$\\alpha = 2P_{\\mathcal{N}(0,\\sigma^2)}(0\\leq d\\leq\\tau) = 2(P_{\\mathcal{N}(0,\\sigma^2)}(d\\leq\\tau)-P_{\\mathcal{N}(0,\\sigma^2)}(d\\leq 0))$$\n",
    "These can be written in terms of the inverse CDF of the standard normal distribution under $\\tau \\rightarrow \\frac{\\tau}{\\sigma}.$ Noting that the second term on the RHS is also $\\frac{1}{2}$, the cutoff distance $\\tau$ for a confidence $\\alpha$ can be written as ($\\Phi^{-1}$ is the inverse normal CDF):\n",
    "\n",
    "$$\\tau = \\Phi^{-1}(\\frac{1}{2}\\alpha + \\frac{1}{2})$$"
   ]
  },
  {
   "cell_type": "markdown",
   "metadata": {},
   "source": [
    "Using this we can find some cutoffs of pixel distance $d_{ij}$ using this $\\tau$. As we are working with $L_2$ norms, these distances directly translate as nighbourhoods of $n = \\text{round}(\\tau)$ from the diagonal of the large $\\Sigma$. When this is translatd to $(\\text{RA},\\delta)$ norm, it will have to be handled with a direct mask"
   ]
  },
  {
   "cell_type": "code",
   "execution_count": null,
   "metadata": {},
   "outputs": [],
   "source": []
  },
  {
   "cell_type": "markdown",
   "metadata": {},
   "source": [
    "One way to do this is to set pixels outside of thee neighbourhood of $n$ to zero, this would be a banded diagonal matrix. This does however keep the extremely large dimensionality of $\\Sigma$. Instead, it is proposed that the matrix uses an $n\\times n$ cutout of the matrix, taken from $(0,0)$ to $(n,n)$, forming a matrix of blocks along the diagonal. This form of sparse matrix is called block diagonal and we formulate it as below."
   ]
  },
  {
   "cell_type": "markdown",
   "metadata": {},
   "source": [
    "## Terminology of the Block Diagonal Matrix.\n",
    "The notation used for the formulation is \"pythonic\", using $\\%$ to mean modulo division, $//$ to mean floor division. It is also set that $r=22500\\; \\% \\;n$. Setting this allows for the handling of edge cases, as is seen later. $\\Sigma_n$ discusses the matrix slice of siz $n\\times n$ as discussed above.\n",
    "\n",
    "## Formulation of Block Diagonal Matrix\n",
    "The matrix $\\Sigma$ is reconstructed:\n",
    "\n",
    "$$\n",
    "\\Sigma \\approx \\hat{\\Sigma} = \\begin{cases} \\text{if r=0} & \\text{diag}(\\Sigma_n,...,\\Sigma_n) \\\\ \\text{otherwise} & \\text{diag}(\\Sigma_n,...,\\Sigma_n,\\Sigma_r)\n",
    "\\end{cases}\n",
    "\n",
    "$$\n"
   ]
  },
  {
   "cell_type": "markdown",
   "metadata": {},
   "source": [
    "The block diagonal has properties:\n",
    "$$\n",
    "\\hat{\\Sigma}^{-1} = \\begin{cases} \\text{if r=0} & \\text{diag}(\\Sigma_n^{-1},...,\\Sigma_n^{-1}) \\\\ \\text{otherwise} & \\text{diag}(\\Sigma_n^{-1},...,\\Sigma_n^{-1},\\Sigma_r^{-1})\n",
    "\\end{cases}\n",
    "$$\n",
    "\n",
    "$$\n",
    "|\\hat{\\Sigma}| = \\begin{cases} \\text{if r=0} & \\prod_{i=0}^{22500//2} |\\Sigma_n| \\\\ \\text{otherwise} & \\left(\\prod_{i=0}^{22500//2} |\\Sigma_n|\\right) + |\\Sigma_r|\n",
    "\\end{cases}\n",
    "$$\n",
    "\n",
    "And therefore the log-determinant becomes:\n",
    "\n",
    "$$\n",
    "\\log|\\hat{\\Sigma}| = \\begin{cases} \\text{if r=0} & \\sum_{i=0}^{22500//2} \\log |\\Sigma_n| \\\\ \\text{otherwise} & \\left(\\sum_{i=0}^{22500//2} \\log|\\Sigma_n|\\right) + |\\Sigma_r|\n",
    "\\end{cases}\n",
    "$$\n"
   ]
  },
  {
   "cell_type": "markdown",
   "metadata": {},
   "source": [
    "What matters most computationally in our case, as we consider the multivariate gaussian negative log likelihood, is the malahanobis term, or the term that has the matrix inversion:\n",
    "\n",
    "$$\n",
    "\\frac{1}{2}(x-\\mu)^T\\Sigma^{-1} (x-\\mu)\n",
    "$$\n",
    "\n",
    "With the above formulation, a simple algorithm to calculate it can be formed:\n",
    "\n",
    "1. calculate $(x-\\mu)$ as a vector.\n",
    "2. Loop over i=0 to i= 22500//n:\n",
    "\n",
    "    3. Find $z= (x-\\mu)$[i*n:(i+1)*n].\n",
    "    4. Compute $z^T \\Sigma_n^{-1} z$.\n",
    "    5. Add to Malahanobis distance and return to step 2.\n",
    "    \n",
    "6. If $r\\neq 0$, $z_r = (x-\\mu)[i*n:]$.\n",
    "7. Add this to the malahanobis distance.\n",
    "\n",
    "Thus, we now have a way to calculate each term in the negative log-likelihood."
   ]
  },
  {
   "cell_type": "markdown",
   "metadata": {},
   "source": [
    "## Importing and adding functions from other notebooks, previously used"
   ]
  },
  {
   "cell_type": "code",
   "execution_count": 1,
   "metadata": {},
   "outputs": [],
   "source": [
    "import numpy as np\n",
    "import matplotlib.pyplot as plt\n",
    "from matplotlib.colors import LogNorm\n",
    "import seaborn as sns\n",
    "import matplotlib.colors as mcolors\n",
    "from scipy.linalg import cholesky, solve_triangular"
   ]
  },
  {
   "cell_type": "code",
   "execution_count": 2,
   "metadata": {},
   "outputs": [],
   "source": [
    "image_size = 50 # image size in pixels\n",
    "sigma = 5.4 / (2 * np.sqrt(2 * np.log(2))) # FWHM = 5.4\n",
    "\n",
    "cmap = plt.cm.viridis.copy()  # Copy the viridis colormap\n",
    "# Create a colormap where 0 is forced to white\n",
    "cmap.set_bad(color='white')  # For masked values\n",
    "cmap.set_under(color='white')  # For explicitly set zero values"
   ]
  },
  {
   "cell_type": "code",
   "execution_count": 3,
   "metadata": {},
   "outputs": [],
   "source": [
    "def find_correlation_matrix(image_size,sigma):\n",
    "    \"\"\"\n",
    "    - Inputs:\n",
    "        - image_size: data dimensionality\n",
    "        - sigma: standard deviation of the target distribution.\n",
    "    - Outputs:\n",
    "        - Correlation matrix: the corrlation matrix as specified in the algorithm in the markdown cells above.\n",
    "    \"\"\"\n",
    "    d = find_d(image_size)\n",
    "\n",
    "    C= (1 / np.sqrt(2 * np.pi * sigma**2)) * np.exp(-d**2 / (2 * sigma**2)) # Just the N(0,sigma^2)\n",
    "\n",
    "    # Set the diagonal elements to 1\n",
    "    np.fill_diagonal(C, 1)\n",
    "\n",
    "    return C\n",
    "\n",
    "def find_d(image_size):\n",
    "    \"\"\"\n",
    "    - Inputs:\n",
    "        - image_size: data dimensionality\n",
    "        - sigma: standard deviation of the target distribution.\n",
    "    - Outputs:\n",
    "        - Correlation matrix: the corrlation matrix as specified in the algorithm in the markdown cells above.\n",
    "    \"\"\"\n",
    "    x, y = np.meshgrid(np.arange(image_size), np.arange(image_size), indexing=\"ij\")\n",
    "    pixel_coords = np.stack((x.ravel(), y.ravel()), axis=1)\n",
    "    i, j = pixel_coords[:, 0], pixel_coords[:, 1] \n",
    "\n",
    "    di = i[:, None] - i[None, :] \n",
    "    dj = j[:, None] - j[None, :] \n",
    "    d = 1.8*np.sqrt(di**2 + dj**2)\n",
    "    return d"
   ]
  },
  {
   "cell_type": "code",
   "execution_count": null,
   "metadata": {},
   "outputs": [],
   "source": []
  }
 ],
 "metadata": {
  "kernelspec": {
   "display_name": "Python 3",
   "language": "python",
   "name": "python3"
  },
  "language_info": {
   "codemirror_mode": {
    "name": "ipython",
    "version": 3
   },
   "file_extension": ".py",
   "mimetype": "text/x-python",
   "name": "python",
   "nbconvert_exporter": "python",
   "pygments_lexer": "ipython3",
   "version": "3.12.4"
  }
 },
 "nbformat": 4,
 "nbformat_minor": 2
}
