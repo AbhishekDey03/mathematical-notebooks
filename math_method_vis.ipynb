{
 "cells": [
  {
   "cell_type": "code",
   "execution_count": null,
   "id": "371e5960",
   "metadata": {},
   "outputs": [],
   "source": [
    "import numpy as np\n",
    "import matplotlib.pyplot as plt\n",
    "from mpl_toolkits.mplot3d import Axes3D\n",
    "\n",
    "# Create a 3D plot\n",
    "fig = plt.figure(figsize=(8, 6))\n",
    "ax = fig.add_subplot(111, projection='3d')\n",
    "\n",
    "# Origin\n",
    "origin = np.array([0, 0, 0])\n",
    "\n",
    "# Define R to point along the z-axis (0, 0, 1)\n",
    "R = np.array([0, 0, 1])\n",
    "ax.quiver(*origin, *R, color='r', label='R (aligned with z-axis)', linewidth=2)\n",
    "\n",
    "# Plot some K vectors at different angles theta\n",
    "theta = np.linspace(0, np.pi, 10)\n",
    "phi = np.linspace(0, 2 * np.pi, 10)\n",
    "\n",
    "K_magnitude = 1.0\n",
    "for t in theta:\n",
    "    for p in phi:\n",
    "        Kx = K_magnitude * np.sin(t) * np.cos(p)\n",
    "        Ky = K_magnitude * np.sin(t) * np.sin(p)\n",
    "        Kz = K_magnitude * np.cos(t)\n",
    "        K = np.array([Kx, Ky, Kz])\n",
    "        ax.quiver(*origin, *K, color='b', alpha=0.3)\n",
    "\n",
    "# Label the axes\n",
    "ax.set_xlim([-1.2, 1.2])\n",
    "ax.set_ylim([-1.2, 1.2])\n",
    "ax.set_zlim([-1.2, 1.2])\n",
    "ax.set_xlabel('X')\n",
    "ax.set_ylabel('Y')\n",
    "ax.set_zlabel('Z')\n",
    "\n",
    "ax.legend()\n",
    "ax.set_title(\"Coordinate Trick: Aligning R with the z-axis\")\n",
    "\n",
    "plt.tight_layout()\n",
    "plt.show()\n"
   ]
  }
 ],
 "metadata": {
  "language_info": {
   "name": "python"
  }
 },
 "nbformat": 4,
 "nbformat_minor": 5
}
