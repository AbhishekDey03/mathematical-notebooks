{
 "cells": [
  {
   "cell_type": "code",
   "execution_count": null,
   "metadata": {},
   "outputs": [],
   "source": [
    "import numpy as np\n",
    "import matplotlib.pyplot as plt\n",
    "from scipy.integrate import solve_bvp\n",
    "\n",
    "# Define the differential equation as a system of first-order equations\n",
    "def ode(x, Y, lambda_val):\n",
    "    y, dy = Y\n",
    "    d2y = (2*x*dy - lambda_val*y) / (1 - x**2)\n",
    "    return np.vstack((dy, d2y))\n",
    "\n",
    "# Boundary conditions: y(0) = 0, y(0.5) = 0\n",
    "def bc(Ya, Yb, lambda_val):\n",
    "    return np.array([Ya[0], Yb[0]])  # Ensures y(0) = 0 and y(0.5) = 0\n",
    "\n",
    "# Discretize the domain\n",
    "x = np.linspace(0, 0.5, 100)\n",
    "\n",
    "# Initial guess for y and y'\n",
    "Y_guess = np.zeros((2, x.size))\n",
    "\n",
    "# Sweep through lambda values and solve the BVP iteratively\n",
    "eigenvalues = []\n",
    "for lambda_guess in np.linspace(0, 100, 10):  # Searching for eigenvalues\n",
    "    sol = solve_bvp(lambda x, Y: ode(x, Y, lambda_guess), \n",
    "                    lambda Ya, Yb: bc(Ya, Yb, lambda_guess), \n",
    "                    x, Y_guess)\n",
    "\n",
    "    if sol.status == 0:  # Successfully converged\n",
    "        eigenvalues.append(lambda_guess)\n",
    "\n",
    "# Sort and extract unique eigenvalues\n",
    "eigenvalues = sorted(set(np.round(eigenvalues, 4)))[:4]\n",
    "\n",
    "# Print the first four eigenvalues\n",
    "print(\"First four eigenvalues λ:\", eigenvalues)\n"
   ]
  },
  {
   "cell_type": "code",
   "execution_count": null,
   "metadata": {},
   "outputs": [],
   "source": []
  }
 ],
 "metadata": {
  "kernelspec": {
   "display_name": "Python 3",
   "language": "python",
   "name": "python3"
  },
  "language_info": {
   "codemirror_mode": {
    "name": "ipython",
    "version": 3
   },
   "file_extension": ".py",
   "mimetype": "text/x-python",
   "name": "python",
   "nbconvert_exporter": "python",
   "pygments_lexer": "ipython3",
   "version": "3.12.4"
  }
 },
 "nbformat": 4,
 "nbformat_minor": 2
}
